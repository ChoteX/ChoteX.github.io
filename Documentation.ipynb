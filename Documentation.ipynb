{
 "cells": [
  {
   "cell_type": "markdown",
   "id": "ce898848",
   "metadata": {},
   "source": [
    "# Tailwind Personal Website — Docs"
   ]
  },
  {
   "cell_type": "markdown",
   "id": "4039674d",
   "metadata": {},
   "source": [
    "\n",
    "This notebook serves as a README-style documentation for the project.\n",
    "It covers structure, customization, and deployment tips in an interactive format.\n"
   ]
  },
  {
   "cell_type": "markdown",
   "id": "45487cc9",
   "metadata": {},
   "source": [
    "## Project Structure"
   ]
  },
  {
   "cell_type": "code",
   "execution_count": null,
   "id": "2ad704b6",
   "metadata": {},
   "outputs": [],
   "source": [
    "from pathlib import Path\n",
    "from pprint import pprint\n",
    "base = Path(\".\")\n",
    "pprint(sorted([p.name for p in base.glob(\"*\")]))"
   ]
  },
  {
   "cell_type": "markdown",
   "id": "86279fc4",
   "metadata": {},
   "source": [
    "## Customization"
   ]
  },
  {
   "cell_type": "markdown",
   "id": "d0b97301",
   "metadata": {},
   "source": [
    "\n",
    "- Update **brand colors** in the inline Tailwind config inside each HTML file.\n",
    "- Replace placeholder text (e.g., *Your Name*, email) with your details.\n",
    "- Duplicate project cards in `projects.html` for more items.\n"
   ]
  },
  {
   "cell_type": "markdown",
   "id": "902b19e6",
   "metadata": {},
   "source": [
    "## Local Preview"
   ]
  },
  {
   "cell_type": "code",
   "execution_count": null,
   "id": "dc957df5",
   "metadata": {},
   "outputs": [],
   "source": [
    "import os\n",
    "print(\"Run this in a terminal from the project folder:\")\n",
    "print(\"python3 -m http.server 5173\")"
   ]
  },
  {
   "cell_type": "markdown",
   "id": "584e85e3",
   "metadata": {},
   "source": [
    "## Deployment Options"
   ]
  },
  {
   "cell_type": "markdown",
   "id": "386090ca",
   "metadata": {},
   "source": [
    "\n",
    "- **GitHub Pages**: Serve from the repository root.\n",
    "- **Netlify/Vercel**: Drag & drop the folder or connect your repo.\n",
    "- **Any static host**: Just upload the HTML files.\n"
   ]
  }
 ],
 "metadata": {},
 "nbformat": 4,
 "nbformat_minor": 5
}
